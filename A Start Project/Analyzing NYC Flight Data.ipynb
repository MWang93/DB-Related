{
 "cells": [
  {
   "cell_type": "markdown",
   "metadata": {},
   "source": [
    "# Connect to NYC Filght Database"
   ]
  },
  {
   "cell_type": "code",
   "execution_count": 147,
   "metadata": {},
   "outputs": [],
   "source": [
    "from pymongo import MongoClient\n",
    "import pandas as pd\n",
    "from pprint import pprint\n",
    "import matplotlib.pyplot as plt"
   ]
  },
  {
   "cell_type": "code",
   "execution_count": 148,
   "metadata": {},
   "outputs": [
    {
     "name": "stdout",
     "output_type": "stream",
     "text": [
      "['admin', 'config', 'exhibits', 'flight', 'inventory', 'local', 'orders', 'products', 'sales', 'test-database-1', 'users']\n"
     ]
    }
   ],
   "source": [
    "client = MongoClient('mongodb://localhost:27017/')\n",
    "print(client.database_names())"
   ]
  },
  {
   "cell_type": "code",
   "execution_count": 149,
   "metadata": {},
   "outputs": [
    {
     "data": {
      "text/plain": [
       "['flights_nyc', 'flights']"
      ]
     },
     "execution_count": 149,
     "metadata": {},
     "output_type": "execute_result"
    }
   ],
   "source": [
    "db = client['flight']\n",
    "db.collection_names()"
   ]
  },
  {
   "cell_type": "code",
   "execution_count": 150,
   "metadata": {},
   "outputs": [],
   "source": [
    "coll = db['flights_nyc']"
   ]
  },
  {
   "cell_type": "code",
   "execution_count": 151,
   "metadata": {},
   "outputs": [
    {
     "name": "stdout",
     "output_type": "stream",
     "text": [
      "{'ActualElapsedTime': 128,\n",
      " 'AirTime': 91,\n",
      " 'ArrDelay': 0,\n",
      " 'ArrTime': 1412,\n",
      " 'CRSArrTime': 1412,\n",
      " 'CRSDepTime': 1210,\n",
      " 'CRSElapsedTime': 122,\n",
      " 'CancellationCode': '',\n",
      " 'Cancelled': 0,\n",
      " 'CarrierDelay': 'NA',\n",
      " 'DayOfWeek': 7,\n",
      " 'DayofMonth': 20,\n",
      " 'DepDelay': -6,\n",
      " 'DepTime': 1204,\n",
      " 'Dest': 'DTW',\n",
      " 'Distance': 487,\n",
      " 'Diverted': 0,\n",
      " 'FlightNum': 3052,\n",
      " 'LateAircraftDelay': 'NA',\n",
      " 'Month': 1,\n",
      " 'NASDelay': 'NA',\n",
      " 'Origin': 'EWR',\n",
      " 'SecurityDelay': 'NA',\n",
      " 'TailNum': 'N13936',\n",
      " 'TaxiIn': 10,\n",
      " 'TaxiOut': 27,\n",
      " 'UniqueCarrier': 'XE',\n",
      " 'WeatherDelay': 'NA',\n",
      " 'Year': 2008,\n",
      " '_id': ObjectId('5383814386a8eedea805348f'),\n",
      " 'aircraft': {'manufacturer': 'EMBRAER', 'model': 'EMB-145EP', 'year': 1997},\n",
      " 'from': {'city': 'Newark',\n",
      "          'lat': 40.69249722,\n",
      "          'long': -74.16866056,\n",
      "          'state': 'NJ'},\n",
      " 'to': {'city': 'Detroit',\n",
      "        'lat': 42.21205889,\n",
      "        'long': -83.34883583,\n",
      "        'state': 'MI'}}\n"
     ]
    }
   ],
   "source": [
    "coll.count()\n",
    "pprint(coll.find_one())"
   ]
  },
  {
   "cell_type": "markdown",
   "metadata": {},
   "source": [
    "### 1. Of the Three Airports, Who Has the Most Flights?"
   ]
  },
  {
   "cell_type": "code",
   "execution_count": 8,
   "metadata": {},
   "outputs": [],
   "source": [
    "res = coll.aggregate([\n",
    "    {\n",
    "        '$group': {\n",
    "            '_id': {'Airport': '$Origin'},\n",
    "            'count': {'$sum': 1}\n",
    "        }\n",
    "    },\n",
    "    {\n",
    "        '$sort': {'count': -1}\n",
    "    }\n",
    "])"
   ]
  },
  {
   "cell_type": "code",
   "execution_count": 9,
   "metadata": {},
   "outputs": [],
   "source": [
    "most_airport = list(res)"
   ]
  },
  {
   "cell_type": "code",
   "execution_count": 10,
   "metadata": {},
   "outputs": [
    {
     "data": {
      "text/plain": [
       "[{'_id': {'Airport': 'EWR'}, 'count': 175169},\n",
       " {'_id': {'Airport': 'LGA'}, 'count': 149686},\n",
       " {'_id': {'Airport': 'JFK'}, 'count': 148738}]"
      ]
     },
     "execution_count": 10,
     "metadata": {},
     "output_type": "execute_result"
    }
   ],
   "source": [
    "most_airport"
   ]
  },
  {
   "cell_type": "markdown",
   "metadata": {},
   "source": [
    "### 2. Who Has the Most Cancella*ons and Highest Cancella*on Ra*o?"
   ]
  },
  {
   "cell_type": "code",
   "execution_count": 11,
   "metadata": {},
   "outputs": [],
   "source": [
    "res = coll.aggregate([\n",
    "    {\n",
    "        '$group': {\n",
    "            '_id': {'Airport': '$Origin'},\n",
    "            'total_flights': {'$sum': 1},\n",
    "            'cancelled_flights': {\n",
    "                '$sum': {\n",
    "                    '$cond': [{\n",
    "                        '$eq': [\"$Cancelled\", 1]\n",
    "                    }, 1, 0]\n",
    "                }\n",
    "            }\n",
    "        }\n",
    "    },\n",
    "    {\n",
    "        '$project': {\n",
    "            'ratio': {\n",
    "                '$divide': [\"$cancelled_flights\", \"$total_flights\"]\n",
    "            }\n",
    "        }\n",
    "    },\n",
    "    {\n",
    "        '$sort': {'ratio': -1}\n",
    "    }\n",
    "])"
   ]
  },
  {
   "cell_type": "code",
   "execution_count": 12,
   "metadata": {},
   "outputs": [],
   "source": [
    "most_cancellation_airport = list(res)"
   ]
  },
  {
   "cell_type": "code",
   "execution_count": 13,
   "metadata": {
    "scrolled": true
   },
   "outputs": [
    {
     "data": {
      "text/plain": [
       "[{'_id': {'Airport': 'LGA'}, 'ratio': 0.0513808906644576},\n",
       " {'_id': {'Airport': 'EWR'}, 'ratio': 0.03549143969537989},\n",
       " {'_id': {'Airport': 'JFK'}, 'ratio': 0.027282873240194166}]"
      ]
     },
     "execution_count": 13,
     "metadata": {},
     "output_type": "execute_result"
    }
   ],
   "source": [
    "most_cancellation_airport"
   ]
  },
  {
   "cell_type": "markdown",
   "metadata": {},
   "source": [
    "### Tax in /out Times?"
   ]
  },
  {
   "cell_type": "code",
   "execution_count": 25,
   "metadata": {},
   "outputs": [],
   "source": [
    "res = coll.aggregate([\n",
    "    {\n",
    "        '$group': {\n",
    "            '_id': 1,\n",
    "            'count': {\n",
    "                '$sum': {\n",
    "                    '$cond': [{\n",
    "                        '$eq': ['$TaxiIn', 'NA'],\n",
    "                        '$eq': ['$TaxiOut', 'NA']\n",
    "                    }, 1, 0]\n",
    "                }\n",
    "            }\n",
    "        }\n",
    "    },\n",
    "    {\n",
    "        '$project': {\n",
    "            '_id': 0,\n",
    "            'count': 1\n",
    "        }\n",
    "    }\n",
    "])"
   ]
  },
  {
   "cell_type": "code",
   "execution_count": 26,
   "metadata": {},
   "outputs": [],
   "source": [
    "taxin_out_times = list(res)"
   ]
  },
  {
   "cell_type": "code",
   "execution_count": 27,
   "metadata": {},
   "outputs": [
    {
     "data": {
      "text/plain": [
       "[{'count': 17954}]"
      ]
     },
     "execution_count": 27,
     "metadata": {},
     "output_type": "execute_result"
    }
   ],
   "source": [
    "taxin_out_times"
   ]
  },
  {
   "cell_type": "code",
   "execution_count": null,
   "metadata": {},
   "outputs": [],
   "source": [
    "res = coll.aggregate([\n",
    "    {\n",
    "        '$group': {\n",
    "            '_id': {'Airport': '$Origin'},\n",
    "            'count': {'$sum': 1}\n",
    "        }\n",
    "    },\n",
    "    {\n",
    "        '$sort': {'count': -1}\n",
    "    }\n",
    "])"
   ]
  },
  {
   "cell_type": "markdown",
   "metadata": {},
   "source": [
    "### Delay by Month\n",
    "-  Flatten a json \n",
    "https://medium.com/@amirziai/flatten-json-on-python-package-index-pypi-9e4951693a5a"
   ]
  },
  {
   "cell_type": "code",
   "execution_count": 92,
   "metadata": {},
   "outputs": [],
   "source": [
    "res = coll.aggregate([\n",
    "    {\n",
    "        '$group': {\n",
    "            '_id': {\n",
    "                'Year': '$Year',\n",
    "                'Month': '$Month'   \n",
    "            },\n",
    "            'Avg_ArrDelay': {'$avg': '$ArrDelay'},\n",
    "            'Avg_DepDelay': {'$avg': '$DepDelay'},\n",
    "        }\n",
    "    },\n",
    "])"
   ]
  },
  {
   "cell_type": "code",
   "execution_count": 93,
   "metadata": {},
   "outputs": [],
   "source": [
    "delay_by_month = list(res)"
   ]
  },
  {
   "cell_type": "code",
   "execution_count": 97,
   "metadata": {},
   "outputs": [],
   "source": [
    "dic = delay_by_month\n",
    "\n",
    "from flatten_json import flatten\n",
    "dic_flattened = [flatten(d) for d in dic]\n",
    "\n",
    "import pandas as pd\n",
    "df = pd.DataFrame(dic_flattened)\n",
    "df = df.rename(columns={'_id_Year':'Year','_id_Month':'Month','Avg_ArrDelay':'Avg Arrival Delay','Avg_DepDelay':'Avg Departure Delay'})"
   ]
  },
  {
   "cell_type": "code",
   "execution_count": 98,
   "metadata": {},
   "outputs": [],
   "source": [
    "df['Year_Month'] = df.apply(lambda x: str(int(x.Year)) + '-' + str(int(x.Month)),axis = 1)"
   ]
  },
  {
   "cell_type": "code",
   "execution_count": 105,
   "metadata": {},
   "outputs": [],
   "source": [
    "df = df.sort_values('Month')"
   ]
  },
  {
   "cell_type": "code",
   "execution_count": 106,
   "metadata": {},
   "outputs": [
    {
     "data": {
      "text/html": [
       "<div>\n",
       "<style scoped>\n",
       "    .dataframe tbody tr th:only-of-type {\n",
       "        vertical-align: middle;\n",
       "    }\n",
       "\n",
       "    .dataframe tbody tr th {\n",
       "        vertical-align: top;\n",
       "    }\n",
       "\n",
       "    .dataframe thead th {\n",
       "        text-align: right;\n",
       "    }\n",
       "</style>\n",
       "<table border=\"1\" class=\"dataframe\">\n",
       "  <thead>\n",
       "    <tr style=\"text-align: right;\">\n",
       "      <th></th>\n",
       "      <th>Avg Arrival Delay</th>\n",
       "      <th>Avg Departure Delay</th>\n",
       "      <th>Month</th>\n",
       "      <th>Year</th>\n",
       "      <th>Year_Month</th>\n",
       "    </tr>\n",
       "  </thead>\n",
       "  <tbody>\n",
       "    <tr>\n",
       "      <th>11</th>\n",
       "      <td>6.345677</td>\n",
       "      <td>9.958877</td>\n",
       "      <td>1</td>\n",
       "      <td>2008</td>\n",
       "      <td>2008-1</td>\n",
       "    </tr>\n",
       "    <tr>\n",
       "      <th>9</th>\n",
       "      <td>17.417154</td>\n",
       "      <td>16.625239</td>\n",
       "      <td>2</td>\n",
       "      <td>2008</td>\n",
       "      <td>2008-2</td>\n",
       "    </tr>\n",
       "    <tr>\n",
       "      <th>8</th>\n",
       "      <td>17.753568</td>\n",
       "      <td>18.062860</td>\n",
       "      <td>3</td>\n",
       "      <td>2008</td>\n",
       "      <td>2008-3</td>\n",
       "    </tr>\n",
       "    <tr>\n",
       "      <th>10</th>\n",
       "      <td>13.017217</td>\n",
       "      <td>13.085341</td>\n",
       "      <td>4</td>\n",
       "      <td>2008</td>\n",
       "      <td>2008-4</td>\n",
       "    </tr>\n",
       "    <tr>\n",
       "      <th>7</th>\n",
       "      <td>12.062528</td>\n",
       "      <td>12.034898</td>\n",
       "      <td>5</td>\n",
       "      <td>2008</td>\n",
       "      <td>2008-5</td>\n",
       "    </tr>\n",
       "    <tr>\n",
       "      <th>6</th>\n",
       "      <td>26.491792</td>\n",
       "      <td>21.279982</td>\n",
       "      <td>6</td>\n",
       "      <td>2008</td>\n",
       "      <td>2008-6</td>\n",
       "    </tr>\n",
       "    <tr>\n",
       "      <th>3</th>\n",
       "      <td>20.478830</td>\n",
       "      <td>20.110582</td>\n",
       "      <td>7</td>\n",
       "      <td>2008</td>\n",
       "      <td>2008-7</td>\n",
       "    </tr>\n",
       "    <tr>\n",
       "      <th>2</th>\n",
       "      <td>19.260766</td>\n",
       "      <td>19.090104</td>\n",
       "      <td>8</td>\n",
       "      <td>2008</td>\n",
       "      <td>2008-8</td>\n",
       "    </tr>\n",
       "    <tr>\n",
       "      <th>5</th>\n",
       "      <td>3.508147</td>\n",
       "      <td>7.551839</td>\n",
       "      <td>9</td>\n",
       "      <td>2008</td>\n",
       "      <td>2008-9</td>\n",
       "    </tr>\n",
       "    <tr>\n",
       "      <th>4</th>\n",
       "      <td>0.603974</td>\n",
       "      <td>5.515430</td>\n",
       "      <td>10</td>\n",
       "      <td>2008</td>\n",
       "      <td>2008-10</td>\n",
       "    </tr>\n",
       "    <tr>\n",
       "      <th>1</th>\n",
       "      <td>0.095217</td>\n",
       "      <td>8.358323</td>\n",
       "      <td>11</td>\n",
       "      <td>2008</td>\n",
       "      <td>2008-11</td>\n",
       "    </tr>\n",
       "    <tr>\n",
       "      <th>0</th>\n",
       "      <td>20.261073</td>\n",
       "      <td>20.874674</td>\n",
       "      <td>12</td>\n",
       "      <td>2008</td>\n",
       "      <td>2008-12</td>\n",
       "    </tr>\n",
       "  </tbody>\n",
       "</table>\n",
       "</div>"
      ],
      "text/plain": [
       "    Avg Arrival Delay  Avg Departure Delay  Month  Year Year_Month\n",
       "11           6.345677             9.958877      1  2008     2008-1\n",
       "9           17.417154            16.625239      2  2008     2008-2\n",
       "8           17.753568            18.062860      3  2008     2008-3\n",
       "10          13.017217            13.085341      4  2008     2008-4\n",
       "7           12.062528            12.034898      5  2008     2008-5\n",
       "6           26.491792            21.279982      6  2008     2008-6\n",
       "3           20.478830            20.110582      7  2008     2008-7\n",
       "2           19.260766            19.090104      8  2008     2008-8\n",
       "5            3.508147             7.551839      9  2008     2008-9\n",
       "4            0.603974             5.515430     10  2008    2008-10\n",
       "1            0.095217             8.358323     11  2008    2008-11\n",
       "0           20.261073            20.874674     12  2008    2008-12"
      ]
     },
     "execution_count": 106,
     "metadata": {},
     "output_type": "execute_result"
    }
   ],
   "source": [
    "df"
   ]
  },
  {
   "cell_type": "code",
   "execution_count": 111,
   "metadata": {
    "scrolled": false
   },
   "outputs": [
    {
     "data": {
      "text/html": [
       "<iframe id=\"igraph\" scrolling=\"no\" style=\"border:none;\" seamless=\"seamless\" src=\"https://plot.ly/~awang93/2.embed\" height=\"525px\" width=\"100%\"></iframe>"
      ],
      "text/plain": [
       "<plotly.tools.PlotlyDisplay object>"
      ]
     },
     "execution_count": 111,
     "metadata": {},
     "output_type": "execute_result"
    }
   ],
   "source": [
    "import plotly.plotly as py\n",
    "import plotly.graph_objs as go\n",
    "from datetime import datetime\n",
    "\n",
    "import plotly\n",
    "plotly.tools.set_credentials_file(username='awang93', api_key='Ha2fNqLIfAQ00b929raj')\n",
    "\n",
    "Avg_ArrDelay = go.Scatter(\n",
    "    x=df.Year_Month,\n",
    "    y=df['Avg Arrival Delay'],\n",
    "    name = \"Avg Arrival Delay\",\n",
    "    line = dict(color = '#2c2229'),\n",
    "    opacity = 0.8)\n",
    "\n",
    "Avg_DepDelay = go.Scatter(\n",
    "    x=df.Year_Month,\n",
    "    y=df['Avg Departure Delay'],\n",
    "    name = \"Avg Departure Delay\",\n",
    "    line = dict(color = '#cdc1c5'),\n",
    "    opacity = 0.8)\n",
    "\n",
    "data = [Avg_ArrDelay, Avg_DepDelay]\n",
    "\n",
    "layout = dict(\n",
    "    title='Time Series with Rangeslider',\n",
    "    xaxis=dict(\n",
    "        rangeselector=dict(\n",
    "            buttons=list([\n",
    "                dict(count=1,\n",
    "                     label='1m',\n",
    "                     step='month',\n",
    "                     stepmode='backward'),\n",
    "                dict(count=6,\n",
    "                     label='6m',\n",
    "                     step='month',\n",
    "                     stepmode='backward'),\n",
    "                dict(step='all')\n",
    "            ])\n",
    "        ),\n",
    "        rangeslider=dict(),\n",
    "        type='date'\n",
    "    )\n",
    ")\n",
    "\n",
    "fig = dict(data=data,layout=layout)\n",
    "py.iplot(fig, filename = \"line-mode\")"
   ]
  },
  {
   "cell_type": "markdown",
   "metadata": {},
   "source": [
    "### Weather Delays"
   ]
  },
  {
   "cell_type": "code",
   "execution_count": 159,
   "metadata": {},
   "outputs": [],
   "source": [
    "res = coll.aggregate([\n",
    "    {\n",
    "        '$match': {'WeatherDelay': 0}\n",
    "    },\n",
    "    {\n",
    "        '$group': {\n",
    "            '_id': {\n",
    "                'Airport': '$Origin',\n",
    "                'Year': '$Year',\n",
    "                'Month': '$Month'   \n",
    "            },\n",
    "            'Avg_ArrDelay': {'$avg': '$ArrDelay'},\n",
    "            'Avg_DepDelay': {'$avg': '$DepDelay'},\n",
    "        }\n",
    "    },\n",
    "    {\n",
    "        '$project': {\n",
    "            'Avg_ArrDelay': 1,\n",
    "            'Avg_DepDelay': 1,\n",
    "            'Avg_Delay': {'$avg': ['$Avg_ArrDelay','$Avg_DepDelay']}\n",
    "            }\n",
    "    }\n",
    "])"
   ]
  },
  {
   "cell_type": "code",
   "execution_count": 160,
   "metadata": {},
   "outputs": [],
   "source": [
    "weather_delay_by_month = list(res)"
   ]
  },
  {
   "cell_type": "code",
   "execution_count": 161,
   "metadata": {},
   "outputs": [
    {
     "data": {
      "text/plain": [
       "{'_id': {'Airport': 'LGA', 'Year': 2008, 'Month': 12},\n",
       " 'Avg_ArrDelay': 55.872854077253216,\n",
       " 'Avg_DepDelay': 44.53057939914163,\n",
       " 'Avg_Delay': 50.20171673819742}"
      ]
     },
     "execution_count": 161,
     "metadata": {},
     "output_type": "execute_result"
    }
   ],
   "source": [
    "weather_delay_by_month[0]"
   ]
  },
  {
   "cell_type": "code",
   "execution_count": 162,
   "metadata": {},
   "outputs": [],
   "source": [
    "dic = weather_delay_by_month\n",
    "\n",
    "from flatten_json import flatten\n",
    "dic_flattened = [flatten(d) for d in dic]\n",
    "\n",
    "import pandas as pd\n",
    "df = pd.DataFrame(dic_flattened)\n",
    "df = df.rename(columns={'_id_Airport':'Airport','_id_Year':'Year','_id_Month':'Month','Avg_ArrDelay':'Avg Arrival Delay','Avg_DepDelay':'Avg Departure Delay'})"
   ]
  },
  {
   "cell_type": "code",
   "execution_count": 164,
   "metadata": {},
   "outputs": [],
   "source": [
    "df['Year_Month'] = df.apply(lambda x: str(int(x.Year)) + '-' + str(int(x.Month)),axis = 1)"
   ]
  },
  {
   "cell_type": "code",
   "execution_count": 165,
   "metadata": {},
   "outputs": [],
   "source": [
    "df = df.sort_values('Month')"
   ]
  },
  {
   "cell_type": "code",
   "execution_count": 168,
   "metadata": {},
   "outputs": [
    {
     "data": {
      "text/html": [
       "<div>\n",
       "<style scoped>\n",
       "    .dataframe tbody tr th:only-of-type {\n",
       "        vertical-align: middle;\n",
       "    }\n",
       "\n",
       "    .dataframe tbody tr th {\n",
       "        vertical-align: top;\n",
       "    }\n",
       "\n",
       "    .dataframe thead th {\n",
       "        text-align: right;\n",
       "    }\n",
       "</style>\n",
       "<table border=\"1\" class=\"dataframe\">\n",
       "  <thead>\n",
       "    <tr style=\"text-align: right;\">\n",
       "      <th></th>\n",
       "      <th>Avg Arrival Delay</th>\n",
       "      <th>Avg_Delay</th>\n",
       "      <th>Avg Departure Delay</th>\n",
       "      <th>Airport</th>\n",
       "      <th>Month</th>\n",
       "      <th>Year</th>\n",
       "      <th>Year_Month</th>\n",
       "    </tr>\n",
       "  </thead>\n",
       "  <tbody>\n",
       "    <tr>\n",
       "      <th>35</th>\n",
       "      <td>54.825963</td>\n",
       "      <td>51.111339</td>\n",
       "      <td>47.396715</td>\n",
       "      <td>EWR</td>\n",
       "      <td>1</td>\n",
       "      <td>2008</td>\n",
       "      <td>2008-1</td>\n",
       "    </tr>\n",
       "    <tr>\n",
       "      <th>30</th>\n",
       "      <td>49.835984</td>\n",
       "      <td>42.829850</td>\n",
       "      <td>35.823716</td>\n",
       "      <td>LGA</td>\n",
       "      <td>1</td>\n",
       "      <td>2008</td>\n",
       "      <td>2008-1</td>\n",
       "    </tr>\n",
       "    <tr>\n",
       "      <th>28</th>\n",
       "      <td>51.572816</td>\n",
       "      <td>45.114298</td>\n",
       "      <td>38.655781</td>\n",
       "      <td>JFK</td>\n",
       "      <td>1</td>\n",
       "      <td>2008</td>\n",
       "      <td>2008-1</td>\n",
       "    </tr>\n",
       "    <tr>\n",
       "      <th>33</th>\n",
       "      <td>58.390761</td>\n",
       "      <td>51.237031</td>\n",
       "      <td>44.083302</td>\n",
       "      <td>JFK</td>\n",
       "      <td>2</td>\n",
       "      <td>2008</td>\n",
       "      <td>2008-2</td>\n",
       "    </tr>\n",
       "    <tr>\n",
       "      <th>24</th>\n",
       "      <td>54.932770</td>\n",
       "      <td>46.917905</td>\n",
       "      <td>38.903041</td>\n",
       "      <td>LGA</td>\n",
       "      <td>2</td>\n",
       "      <td>2008</td>\n",
       "      <td>2008-2</td>\n",
       "    </tr>\n",
       "  </tbody>\n",
       "</table>\n",
       "</div>"
      ],
      "text/plain": [
       "    Avg Arrival Delay  Avg_Delay  Avg Departure Delay Airport  Month  Year  \\\n",
       "35          54.825963  51.111339            47.396715     EWR      1  2008   \n",
       "30          49.835984  42.829850            35.823716     LGA      1  2008   \n",
       "28          51.572816  45.114298            38.655781     JFK      1  2008   \n",
       "33          58.390761  51.237031            44.083302     JFK      2  2008   \n",
       "24          54.932770  46.917905            38.903041     LGA      2  2008   \n",
       "\n",
       "   Year_Month  \n",
       "35     2008-1  \n",
       "30     2008-1  \n",
       "28     2008-1  \n",
       "33     2008-2  \n",
       "24     2008-2  "
      ]
     },
     "execution_count": 168,
     "metadata": {},
     "output_type": "execute_result"
    }
   ],
   "source": [
    "df.head()"
   ]
  },
  {
   "cell_type": "code",
   "execution_count": 173,
   "metadata": {},
   "outputs": [],
   "source": [
    "EWR = df.loc[df['Airport'] == 'EWR']\n",
    "LGA = df.loc[df['Airport'] == 'LGA']\n",
    "JFK = df.loc[df['Airport'] == 'JFK']"
   ]
  },
  {
   "cell_type": "code",
   "execution_count": 174,
   "metadata": {
    "scrolled": false
   },
   "outputs": [
    {
     "data": {
      "text/html": [
       "<iframe id=\"igraph\" scrolling=\"no\" style=\"border:none;\" seamless=\"seamless\" src=\"https://plot.ly/~awang93/2.embed\" height=\"525px\" width=\"100%\"></iframe>"
      ],
      "text/plain": [
       "<plotly.tools.PlotlyDisplay object>"
      ]
     },
     "execution_count": 174,
     "metadata": {},
     "output_type": "execute_result"
    }
   ],
   "source": [
    "import plotly.plotly as py\n",
    "import plotly.graph_objs as go\n",
    "from datetime import datetime\n",
    "\n",
    "import plotly\n",
    "plotly.tools.set_credentials_file(username='awang93', api_key='Ha2fNqLIfAQ00b929raj')\n",
    "\n",
    "EWR = go.Scatter(\n",
    "    x=EWR.Year_Month,\n",
    "    y=EWR['Avg_Delay'] ,\n",
    "    name = \"EWR Airport Avg Delay\",\n",
    "    line = dict(color = '#f2cab9'),\n",
    "    opacity = 0.8)\n",
    "\n",
    "LGA = go.Scatter(\n",
    "    x=LGA.Year_Month,\n",
    "    y=LGA['Avg_Delay'] ,\n",
    "    name = \"LGA Airport Avg Delay\",\n",
    "    line = dict(color = '#dead00'),\n",
    "    opacity = 0.8)\n",
    "\n",
    "JFK = go.Scatter(\n",
    "    x=JFK.Year_Month,\n",
    "    y=JFK['Avg_Delay'] ,\n",
    "    name = \"JFK Airport Avg Delay\",\n",
    "    line = dict(color = '#2c2229'),\n",
    "    opacity = 0.8)\n",
    "\n",
    "data = [EWR, LGA, JFK]\n",
    "\n",
    "layout = dict(\n",
    "    title='Time Series with Rangeslider',\n",
    "    xaxis=dict(\n",
    "        rangeselector=dict(\n",
    "            buttons=list([\n",
    "                dict(count=1,\n",
    "                     label='1m',\n",
    "                     step='month',\n",
    "                     stepmode='backward'),\n",
    "                dict(count=6,\n",
    "                     label='6m',\n",
    "                     step='month',\n",
    "                     stepmode='backward'),\n",
    "                dict(step='all')\n",
    "            ])\n",
    "        ),\n",
    "        rangeslider=dict(),\n",
    "        type='date'\n",
    "    )\n",
    ")\n",
    "\n",
    "fig = dict(data=data,layout=layout)\n",
    "py.iplot(fig, filename = \"line-mode\")"
   ]
  },
  {
   "cell_type": "markdown",
   "metadata": {},
   "source": [
    "###  Work for Boeing"
   ]
  },
  {
   "cell_type": "code",
   "execution_count": 204,
   "metadata": {},
   "outputs": [],
   "source": [
    "res = coll.aggregate([\n",
    "    {\n",
    "        '$match': {'aircraft.manufacturer': 'BOEING'}\n",
    "    },\n",
    "    {\n",
    "        '$group': {\n",
    "            '_id': {\n",
    "                'Destination': '$Dest',\n",
    "                'Airport': '$Origin'\n",
    "            },\n",
    "            'count': {'$sum': 1}\n",
    "        }\n",
    "    },\n",
    "    {\n",
    "        '$sort': {'count': -1}\n",
    "    }\n",
    "])"
   ]
  },
  {
   "cell_type": "code",
   "execution_count": 205,
   "metadata": {},
   "outputs": [],
   "source": [
    "boeing = list(res)"
   ]
  },
  {
   "cell_type": "code",
   "execution_count": 208,
   "metadata": {},
   "outputs": [],
   "source": [
    "dic = boeing\n",
    "from flatten_json import flatten\n",
    "dic_flattened = [flatten(d) for d in dic]\n",
    "\n",
    "import pandas as pd\n",
    "df = pd.DataFrame(dic_flattened)\n",
    "df = df.rename(columns={'_id_Destination':'Destination','_id_Airport': 'Airport'})"
   ]
  },
  {
   "cell_type": "code",
   "execution_count": 209,
   "metadata": {
    "scrolled": true
   },
   "outputs": [
    {
     "data": {
      "text/html": [
       "<div>\n",
       "<style scoped>\n",
       "    .dataframe tbody tr th:only-of-type {\n",
       "        vertical-align: middle;\n",
       "    }\n",
       "\n",
       "    .dataframe tbody tr th {\n",
       "        vertical-align: top;\n",
       "    }\n",
       "\n",
       "    .dataframe thead th {\n",
       "        text-align: right;\n",
       "    }\n",
       "</style>\n",
       "<table border=\"1\" class=\"dataframe\">\n",
       "  <thead>\n",
       "    <tr style=\"text-align: right;\">\n",
       "      <th></th>\n",
       "      <th>Airport</th>\n",
       "      <th>Destination</th>\n",
       "      <th>count</th>\n",
       "    </tr>\n",
       "  </thead>\n",
       "  <tbody>\n",
       "    <tr>\n",
       "      <th>0</th>\n",
       "      <td>JFK</td>\n",
       "      <td>LAX</td>\n",
       "      <td>9763</td>\n",
       "    </tr>\n",
       "    <tr>\n",
       "      <th>1</th>\n",
       "      <td>LGA</td>\n",
       "      <td>ATL</td>\n",
       "      <td>9548</td>\n",
       "    </tr>\n",
       "    <tr>\n",
       "      <th>2</th>\n",
       "      <td>EWR</td>\n",
       "      <td>ATL</td>\n",
       "      <td>7189</td>\n",
       "    </tr>\n",
       "    <tr>\n",
       "      <th>3</th>\n",
       "      <td>JFK</td>\n",
       "      <td>SFO</td>\n",
       "      <td>6234</td>\n",
       "    </tr>\n",
       "    <tr>\n",
       "      <th>4</th>\n",
       "      <td>EWR</td>\n",
       "      <td>IAH</td>\n",
       "      <td>4828</td>\n",
       "    </tr>\n",
       "  </tbody>\n",
       "</table>\n",
       "</div>"
      ],
      "text/plain": [
       "  Airport Destination  count\n",
       "0     JFK         LAX   9763\n",
       "1     LGA         ATL   9548\n",
       "2     EWR         ATL   7189\n",
       "3     JFK         SFO   6234\n",
       "4     EWR         IAH   4828"
      ]
     },
     "execution_count": 209,
     "metadata": {},
     "output_type": "execute_result"
    }
   ],
   "source": [
    "df.head()"
   ]
  },
  {
   "cell_type": "code",
   "execution_count": 210,
   "metadata": {},
   "outputs": [],
   "source": [
    "EWR = df.loc[df['Airport'] == 'EWR']\n",
    "LGA = df.loc[df['Airport'] == 'LGA']\n",
    "JFK = df.loc[df['Airport'] == 'JFK']"
   ]
  },
  {
   "cell_type": "code",
   "execution_count": 211,
   "metadata": {},
   "outputs": [
    {
     "data": {
      "text/html": [
       "<iframe id=\"igraph\" scrolling=\"no\" style=\"border:none;\" seamless=\"seamless\" src=\"https://plot.ly/~awang93/12.embed\" height=\"525px\" width=\"100%\"></iframe>"
      ],
      "text/plain": [
       "<plotly.tools.PlotlyDisplay object>"
      ]
     },
     "execution_count": 211,
     "metadata": {},
     "output_type": "execute_result"
    }
   ],
   "source": [
    "import plotly.plotly as py\n",
    "import plotly.graph_objs as go\n",
    "\n",
    "trace1 = go.Bar(\n",
    "    x=EWR['Destination'],\n",
    "    y=EWR['count'],\n",
    "    name='EWR'\n",
    ")\n",
    "trace2 = go.Bar(\n",
    "    x=LGA['Destination'],\n",
    "    y=LGA['count'],\n",
    "    name='LGA'\n",
    ")\n",
    "trace3 = go.Bar(\n",
    "    x=JFK['Destination'],\n",
    "    y=JFK['count'],\n",
    "    name='JFK'\n",
    ")\n",
    "\n",
    "data = [trace1, trace2, trace3]\n",
    "layout = go.Layout(\n",
    "    barmode='group'\n",
    ")\n",
    "\n",
    "fig = go.Figure(data=data, layout=layout)\n",
    "py.iplot(fig, filename='grouped-bar')"
   ]
  },
  {
   "cell_type": "code",
   "execution_count": 231,
   "metadata": {},
   "outputs": [],
   "source": [
    "res = coll.aggregate([\n",
    "    {\n",
    "        '$match': {'aircraft.manufacturer': 'BOEING'}\n",
    "    },\n",
    "    {\n",
    "        '$group': {\n",
    "            '_id': {'Destination': '$to.state'},\n",
    "            'count': {'$sum': 1},\n",
    "            'lat': {'$avg':'$to.lat'},\n",
    "            'long': {'$avg':'$to.long'}\n",
    "        }\n",
    "    },\n",
    "    {\n",
    "        '$sort': {'count': -1}\n",
    "    }\n",
    "])"
   ]
  },
  {
   "cell_type": "code",
   "execution_count": 232,
   "metadata": {},
   "outputs": [],
   "source": [
    "boeing2 = list(res)"
   ]
  },
  {
   "cell_type": "code",
   "execution_count": 241,
   "metadata": {
    "scrolled": true
   },
   "outputs": [
    {
     "data": {
      "text/plain": [
       "{'_id': {'Destination': 'CA'},\n",
       " 'count': 25047,\n",
       " 'lat': 35.15872090371462,\n",
       " 'long': -119.71448692674171}"
      ]
     },
     "execution_count": 241,
     "metadata": {},
     "output_type": "execute_result"
    }
   ],
   "source": [
    "boeing2[0]"
   ]
  },
  {
   "cell_type": "code",
   "execution_count": 244,
   "metadata": {},
   "outputs": [],
   "source": [
    "dic = boeing2\n",
    "\n",
    "from flatten_json import flatten\n",
    "dic_flattened = [flatten(d) for d in dic]\n",
    "\n",
    "import pandas as pd\n",
    "df = pd.DataFrame(dic_flattened)\n",
    "df = df.rename(columns={'_id_Destination':'name','count':'pop','long':'lon'})"
   ]
  },
  {
   "cell_type": "code",
   "execution_count": 245,
   "metadata": {},
   "outputs": [
    {
     "data": {
      "text/html": [
       "<div>\n",
       "<style scoped>\n",
       "    .dataframe tbody tr th:only-of-type {\n",
       "        vertical-align: middle;\n",
       "    }\n",
       "\n",
       "    .dataframe tbody tr th {\n",
       "        vertical-align: top;\n",
       "    }\n",
       "\n",
       "    .dataframe thead th {\n",
       "        text-align: right;\n",
       "    }\n",
       "</style>\n",
       "<table border=\"1\" class=\"dataframe\">\n",
       "  <thead>\n",
       "    <tr style=\"text-align: right;\">\n",
       "      <th></th>\n",
       "      <th>name</th>\n",
       "      <th>pop</th>\n",
       "      <th>lat</th>\n",
       "      <th>lon</th>\n",
       "    </tr>\n",
       "  </thead>\n",
       "  <tbody>\n",
       "    <tr>\n",
       "      <th>0</th>\n",
       "      <td>CA</td>\n",
       "      <td>25047</td>\n",
       "      <td>35.158721</td>\n",
       "      <td>-119.714487</td>\n",
       "    </tr>\n",
       "    <tr>\n",
       "      <th>1</th>\n",
       "      <td>FL</td>\n",
       "      <td>24954</td>\n",
       "      <td>27.279049</td>\n",
       "      <td>-81.069200</td>\n",
       "    </tr>\n",
       "    <tr>\n",
       "      <th>2</th>\n",
       "      <td>GA</td>\n",
       "      <td>18498</td>\n",
       "      <td>33.639299</td>\n",
       "      <td>-84.424504</td>\n",
       "    </tr>\n",
       "    <tr>\n",
       "      <th>3</th>\n",
       "      <td>TX</td>\n",
       "      <td>14334</td>\n",
       "      <td>30.364907</td>\n",
       "      <td>-96.005672</td>\n",
       "    </tr>\n",
       "    <tr>\n",
       "      <th>4</th>\n",
       "      <td>IL</td>\n",
       "      <td>8652</td>\n",
       "      <td>41.974560</td>\n",
       "      <td>-87.900510</td>\n",
       "    </tr>\n",
       "  </tbody>\n",
       "</table>\n",
       "</div>"
      ],
      "text/plain": [
       "  name    pop        lat         lon\n",
       "0   CA  25047  35.158721 -119.714487\n",
       "1   FL  24954  27.279049  -81.069200\n",
       "2   GA  18498  33.639299  -84.424504\n",
       "3   TX  14334  30.364907  -96.005672\n",
       "4   IL   8652  41.974560  -87.900510"
      ]
     },
     "execution_count": 245,
     "metadata": {},
     "output_type": "execute_result"
    }
   ],
   "source": [
    "df.head()"
   ]
  },
  {
   "cell_type": "code",
   "execution_count": 258,
   "metadata": {},
   "outputs": [
    {
     "data": {
      "text/html": [
       "<iframe id=\"igraph\" scrolling=\"no\" style=\"border:none;\" seamless=\"seamless\" src=\"https://plot.ly/~awang93/16.embed\" height=\"525px\" width=\"100%\"></iframe>"
      ],
      "text/plain": [
       "<plotly.tools.PlotlyDisplay object>"
      ]
     },
     "execution_count": 258,
     "metadata": {},
     "output_type": "execute_result"
    }
   ],
   "source": [
    "import plotly.plotly as py\n",
    "import pandas as pd\n",
    "\n",
    "df['text'] = 'Beoing Destination: ' + df['name'] + '<br>' + (df['pop']).astype(str)+' times'\n",
    "limits = [(0,5),(6,10),(11,15),(16,20),(20,35)]\n",
    "colors = [\"rgb(0,116,217)\",\"rgb(255,65,54)\",\"rgb(133,20,75)\",\"rgb(255,133,27)\",\"#2c2229\"]\n",
    "cities = []\n",
    "scale = 10\n",
    "\n",
    "for i in range(len(limits)):\n",
    "    lim = limits[i]\n",
    "    df_sub = df[lim[0]:lim[1]]\n",
    "    city = dict(\n",
    "        type = 'scattergeo',\n",
    "        locationmode = 'USA-states',\n",
    "        lon = df_sub['lon'],\n",
    "        lat = df_sub['lat'],\n",
    "        text = df_sub['text'],\n",
    "        marker = dict(\n",
    "            size = df_sub['pop']/scale,\n",
    "            color = colors[i],\n",
    "            line = dict(width=0.5, color='rgb(40,40,40)'),\n",
    "            sizemode = 'area'\n",
    "        ),\n",
    "        name = '{0} - {1}'.format(lim[0],lim[1]) )\n",
    "    cities.append(city)\n",
    "\n",
    "layout = dict(\n",
    "        title = '...',\n",
    "        showlegend = True,\n",
    "        geo = dict(\n",
    "            scope='usa',\n",
    "            projection=dict( type='albers usa' ),\n",
    "            showland = True,\n",
    "            landcolor = 'rgb(217, 217, 217)',\n",
    "            subunitwidth=1,\n",
    "            countrywidth=1,\n",
    "            subunitcolor=\"rgb(255, 255, 255)\",\n",
    "            countrycolor=\"rgb(255, 255, 255)\"\n",
    "        ),\n",
    "    )\n",
    "\n",
    "fig = dict( data=cities, layout=layout )\n",
    "py.iplot( fig, validate=False, filename='d3-bubble-map-populations' )"
   ]
  }
 ],
 "metadata": {
  "kernelspec": {
   "display_name": "Python 3",
   "language": "python",
   "name": "python3"
  },
  "language_info": {
   "codemirror_mode": {
    "name": "ipython",
    "version": 3
   },
   "file_extension": ".py",
   "mimetype": "text/x-python",
   "name": "python",
   "nbconvert_exporter": "python",
   "pygments_lexer": "ipython3",
   "version": "3.6.5"
  }
 },
 "nbformat": 4,
 "nbformat_minor": 2
}
