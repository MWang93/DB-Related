{
 "cells": [
  {
   "cell_type": "code",
   "execution_count": null,
   "metadata": {},
   "outputs": [],
   "source": [
    "from pymongo import MongoClient\n",
    "import pandas as pd\n",
    "from pprint import pprint\n",
    "\n",
    "HOST   = ''\n",
    "\n",
    "client = MongoClient(host = HOST)\n",
    "\n",
    "database_collection = dict((db, [collection for collection in client[db].collection_names()])\n",
    "             for db in client.database_names())\n",
    "\n",
    "for k, v in database_collection.items():\n",
    "    print('%s:' %k)\n",
    "    print('  ', ','.join(vv for vv in v))\n",
    "    print('\\n')"
   ]
  },
  {
   "cell_type": "code",
   "execution_count": null,
   "metadata": {},
   "outputs": [],
   "source": [
    "def chooseTable(client, db, table):\n",
    "    try:\n",
    "        database = client[db]\n",
    "        collection = database[table]\n",
    "        return collection\n",
    "    except Exception as e:\n",
    "        print(e)\n",
    "\n",
    "def queryMongo(collection, query=None, proj={}):\n",
    "    try:\n",
    "        cursor = collection.find(filter=query, projection=proj)\n",
    "        df = cursorToPandas(cursor)\n",
    "        return(df)\n",
    "    \n",
    "    except Exception as e:\n",
    "        print(e)\n",
    "\n",
    "def executeQuery(collection, q, p):\n",
    "    try:\n",
    "        cursor = queryMongo(collection, query=q, proj=p)\n",
    "        return df\n",
    "    except Exception as e:\n",
    "        print(e)\n",
    "        \n",
    "def cursorToPandas(cursor):\n",
    "    try:\n",
    "        df = pd.DataFrame(list(cursor))\n",
    "        return(df)\n",
    "    except Exception as e:\n",
    "        print(e)"
   ]
  },
  {
   "cell_type": "code",
   "execution_count": null,
   "metadata": {},
   "outputs": [],
   "source": [
    "q = ''\n",
    "p = ''\n",
    "collection = chooseTable(client, '..', '...')\n",
    "df = executeQuery(playlist_playlists, q, p)"
   ]
  }
 ],
 "metadata": {
  "kernelspec": {
   "display_name": "Python 3",
   "language": "python",
   "name": "python3"
  },
  "language_info": {
   "codemirror_mode": {
    "name": "ipython",
    "version": 3
   },
   "file_extension": ".py",
   "mimetype": "text/x-python",
   "name": "python",
   "nbconvert_exporter": "python",
   "pygments_lexer": "ipython3",
   "version": "3.6.5"
  }
 },
 "nbformat": 4,
 "nbformat_minor": 2
}
