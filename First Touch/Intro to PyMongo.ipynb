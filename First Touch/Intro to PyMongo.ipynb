{
 "cells": [
  {
   "cell_type": "markdown",
   "metadata": {},
   "source": [
    "# Connect to Mongodb\n",
    "-  MongoClient\n",
    "-  Print Database Names"
   ]
  },
  {
   "cell_type": "code",
   "execution_count": 1,
   "metadata": {},
   "outputs": [
    {
     "name": "stdout",
     "output_type": "stream",
     "text": [
      "['admin', 'config', 'exhibits', 'local', 'orders', 'products', 'test-database-1', 'users']\n"
     ]
    }
   ],
   "source": [
    "from pymongo import MongoClient\n",
    "from pprint import pprint\n",
    "client = MongoClient('mongodb://localhost:27017/')\n",
    "print(client.database_names())"
   ]
  },
  {
   "cell_type": "markdown",
   "metadata": {},
   "source": [
    "# Choose Database\n",
    "-  Print Collection Names (like **table**) "
   ]
  },
  {
   "cell_type": "code",
   "execution_count": 10,
   "metadata": {},
   "outputs": [
    {
     "name": "stdout",
     "output_type": "stream",
     "text": [
      "['mycollection']\n"
     ]
    }
   ],
   "source": [
    "mydb = client['test-database-1']\n",
    "print(mydb.collection_names())"
   ]
  },
  {
   "cell_type": "markdown",
   "metadata": {},
   "source": [
    "# Drop Database\n",
    "-  For Example: client.drop_database('test-database-1')"
   ]
  },
  {
   "cell_type": "markdown",
   "metadata": {},
   "source": [
    "# How Many Documents in One Collection"
   ]
  },
  {
   "cell_type": "code",
   "execution_count": 11,
   "metadata": {},
   "outputs": [
    {
     "data": {
      "text/plain": [
       "3"
      ]
     },
     "execution_count": 11,
     "metadata": {},
     "output_type": "execute_result"
    }
   ],
   "source": [
    "mydb.mycollection.count()"
   ]
  },
  {
   "cell_type": "markdown",
   "metadata": {},
   "source": [
    "# Print one Document"
   ]
  },
  {
   "cell_type": "code",
   "execution_count": 14,
   "metadata": {
    "scrolled": false
   },
   "outputs": [
    {
     "name": "stdout",
     "output_type": "stream",
     "text": [
      "{'_id': ObjectId('5b2558e0abda89d294b315cf'),\n",
      " 'author': 'Duke',\n",
      " 'date': datetime.datetime(2018, 6, 16, 18, 37, 20, 376000),\n",
      " 'tags': ['MongoDB', 'PyMongo', 'Tutorial'],\n",
      " 'title': 'PyMongo 101'}\n"
     ]
    }
   ],
   "source": [
    "pprint(mydb.mycollection.find_one())"
   ]
  },
  {
   "cell_type": "markdown",
   "metadata": {},
   "source": [
    "# Print all Document"
   ]
  },
  {
   "cell_type": "code",
   "execution_count": 16,
   "metadata": {},
   "outputs": [
    {
     "name": "stdout",
     "output_type": "stream",
     "text": [
      "{'_id': ObjectId('5b2558e0abda89d294b315cf'),\n",
      " 'author': 'Duke',\n",
      " 'date': datetime.datetime(2018, 6, 16, 18, 37, 20, 376000),\n",
      " 'tags': ['MongoDB', 'PyMongo', 'Tutorial'],\n",
      " 'title': 'PyMongo 101'}\n",
      "{'_id': ObjectId('5b2558e0abda89d294b315d0'),\n",
      " 'author': 'Duke II',\n",
      " 'date': datetime.datetime(2018, 6, 16, 18, 37, 20, 376000),\n",
      " 'tags': ['MongoDB II', 'PyMongo II', 'Tutorial II'],\n",
      " 'title': 'PyMongo II 101'}\n",
      "{'_id': ObjectId('5b2558e0abda89d294b315d1'),\n",
      " 'author': 'Duke III',\n",
      " 'date': datetime.datetime(2018, 6, 16, 18, 37, 20, 376000),\n",
      " 'tags': ['MongoDB III', 'PyMongo III', 'Tutorial III'],\n",
      " 'title': 'PyMongo III 101'}\n"
     ]
    }
   ],
   "source": [
    "# cursor\n",
    "mydb.mycollection.find()\n",
    "for coll in mydb.mycollection.find():\n",
    "    pprint(coll)"
   ]
  },
  {
   "cell_type": "markdown",
   "metadata": {},
   "source": [
    "# Insert Many Document in a New Collection"
   ]
  },
  {
   "cell_type": "code",
   "execution_count": 18,
   "metadata": {},
   "outputs": [
    {
     "data": {
      "text/plain": [
       "<pymongo.results.InsertManyResult at 0x104e2b3c8>"
      ]
     },
     "execution_count": 18,
     "metadata": {},
     "output_type": "execute_result"
    }
   ],
   "source": [
    "import datetime\n",
    "myrecord = [{\"author\": \"Duke 6\",\n",
    "              \"title\" : \"PyMongo 101-A6\",\n",
    "              \"tags\" : [\"MongoDB 6\", \"PyMongo 6\", \"Tutorial 6\"],\n",
    "              \"date\" : datetime.datetime(2015, 11, 28, 1, 13)},\n",
    "             {\"author\": \"Adja\",\n",
    "              \"title\": \"MongoDB 101-A7\",\n",
    "              \"note\": \"Schema free MongoDB\",\n",
    "              \"date\": datetime.datetime(2015, 11, 29, 11, 42)}\n",
    "            ]\n",
    "mydb.mytest.insert_many(myrecord)"
   ]
  },
  {
   "cell_type": "code",
   "execution_count": 21,
   "metadata": {},
   "outputs": [
    {
     "data": {
      "text/plain": [
       "[{'_id': ObjectId('5b255d8dabda89d2d69e91ba'),\n",
       "  'author': 'Duke 6',\n",
       "  'title': 'PyMongo 101-A6',\n",
       "  'tags': ['MongoDB 6', 'PyMongo 6', 'Tutorial 6'],\n",
       "  'date': datetime.datetime(2015, 11, 28, 1, 13)},\n",
       " {'_id': ObjectId('5b255d8dabda89d2d69e91bb'),\n",
       "  'author': 'Adja',\n",
       "  'title': 'MongoDB 101-A7',\n",
       "  'note': 'Schema free MongoDB',\n",
       "  'date': datetime.datetime(2015, 11, 29, 11, 42)}]"
      ]
     },
     "execution_count": 21,
     "metadata": {},
     "output_type": "execute_result"
    }
   ],
   "source": [
    "list(mydb.mytest.find())"
   ]
  },
  {
   "cell_type": "code",
   "execution_count": 19,
   "metadata": {},
   "outputs": [
    {
     "name": "stdout",
     "output_type": "stream",
     "text": [
      "['mycollection', 'mytest']\n"
     ]
    }
   ],
   "source": [
    "print(mydb.collection_names())"
   ]
  },
  {
   "cell_type": "markdown",
   "metadata": {},
   "source": [
    "# Drop Collection\n",
    "-  For example: mydb.mycollection.drop()"
   ]
  },
  {
   "cell_type": "markdown",
   "metadata": {},
   "source": [
    "# Simple Query"
   ]
  },
  {
   "cell_type": "code",
   "execution_count": 25,
   "metadata": {},
   "outputs": [
    {
     "name": "stdout",
     "output_type": "stream",
     "text": [
      "1\n",
      "{'_id': ObjectId('5b2558e0abda89d294b315cf'),\n",
      " 'author': 'Duke',\n",
      " 'date': datetime.datetime(2018, 6, 16, 18, 37, 20, 376000),\n",
      " 'tags': ['MongoDB', 'PyMongo', 'Tutorial'],\n",
      " 'title': 'PyMongo 101'}\n"
     ]
    }
   ],
   "source": [
    "print(mydb.mycollection.find({\"author\": \"Duke\"}).count())\n",
    "for document in mydb.mycollection.find({\"author\": \"Duke\"}):\n",
    "    pprint(document)"
   ]
  },
  {
   "cell_type": "code",
   "execution_count": 27,
   "metadata": {},
   "outputs": [
    {
     "name": "stdout",
     "output_type": "stream",
     "text": [
      "{'_id': ObjectId('5b2558e0abda89d294b315cf'),\n",
      " 'author': 'Duke',\n",
      " 'date': datetime.datetime(2018, 6, 16, 18, 37, 20, 376000),\n",
      " 'tags': ['MongoDB', 'PyMongo', 'Tutorial'],\n",
      " 'title': 'PyMongo 101'}\n",
      "{'_id': ObjectId('5b2558e0abda89d294b315d0'),\n",
      " 'author': 'Duke II',\n",
      " 'date': datetime.datetime(2018, 6, 16, 18, 37, 20, 376000),\n",
      " 'tags': ['MongoDB II', 'PyMongo II', 'Tutorial II'],\n",
      " 'title': 'PyMongo II 101'}\n",
      "{'_id': ObjectId('5b2558e0abda89d294b315d1'),\n",
      " 'author': 'Duke III',\n",
      " 'date': datetime.datetime(2018, 6, 16, 18, 37, 20, 376000),\n",
      " 'tags': ['MongoDB III', 'PyMongo III', 'Tutorial III'],\n",
      " 'title': 'PyMongo III 101'}\n"
     ]
    }
   ],
   "source": [
    "import datetime\n",
    "for document in mydb.mycollection.find({\"date\": {\"$lt\": datetime.datetime(2018, 7, 1)}}).sort(\"author\"):\n",
    "    pprint(document)"
   ]
  }
 ],
 "metadata": {
  "kernelspec": {
   "display_name": "Python 3",
   "language": "python",
   "name": "python3"
  },
  "language_info": {
   "codemirror_mode": {
    "name": "ipython",
    "version": 3
   },
   "file_extension": ".py",
   "mimetype": "text/x-python",
   "name": "python",
   "nbconvert_exporter": "python",
   "pygments_lexer": "ipython3",
   "version": "3.6.5"
  }
 },
 "nbformat": 4,
 "nbformat_minor": 2
}
